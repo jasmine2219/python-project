{
 "cells": [
  {
   "cell_type": "code",
   "execution_count": 4,
   "id": "4776b57f",
   "metadata": {},
   "outputs": [
    {
     "name": "stderr",
     "output_type": "stream",
     "text": [
      "Exception in Tkinter callback\n",
      "Traceback (most recent call last):\n",
      "  File \"C:\\ProgramData\\Anaconda3\\lib\\tkinter\\__init__.py\", line 1892, in __call__\n",
      "    return self.func(*args)\n",
      "  File \"C:\\Users\\hp\\AppData\\Local\\Temp\\ipykernel_5544\\2085105366.py\", line 29, in roll_dice\n",
      "    label3-tkinter. Label(root, text='You rolled a five! Click roll dice to roll again.', font=('Helvetica',20))\n",
      "UnboundLocalError: local variable 'label3' referenced before assignment\n"
     ]
    }
   ],
   "source": [
    "import random\n",
    "import tkinter\n",
    "root = tkinter.Tk()\n",
    "root.geometry('600x500')\n",
    "root.title(' Dice Simulator')\n",
    "label = tkinter. Label(root, text='', font=('Helvetica', 300), fg=\"red\") \n",
    "label2 = tkinter. Label(root, text='hey! Welcome to Dice roll. Click to roll dice', font=(\"Helvetica\", 15)) \n",
    "label2.place(x=150, y=425) \n",
    "\n",
    "def roll_dice():\n",
    "    value = ['\\u2680', '\\u2681', '\\u2682', '\\u2683', '\\u2684', '\\u2685'] \n",
    "    result=random.choice(value) \n",
    "    label.configure(text=result) \n",
    "    label.pack()\n",
    "    \n",
    "    if (result=='\\u2680'):\n",
    "        label3=tkinter. Label(root, text='You rolled a one! Click roll dice to roll again.', font=('Helvetica', 20)) \n",
    "        label3.place(x=25, y=450)\n",
    "    elif (result=='\\u2681'):\n",
    "        label3=tkinter. Label(root, text='You rolled a two! Click roll dice to roll again. ', font=('Helvetica', 20)) \n",
    "        label3.place(x=25, y=450)\n",
    "    elif (result=='\\u2682'):\n",
    "        Label3=tkinter.Label (root, text='You rolled a three! Click roll dice to roll again.', font=(\"Helvetica\", 20)) \n",
    "        Label3.place(x=25, y=450)\n",
    "    elif (result == '\\u2683'):\n",
    "        label3=tkinter.Label(root, text='You rolled a four! Click roll dice to roll again.', font=('Helvetica',20)) \n",
    "        label3.place(x=25, y=450) \n",
    "    elif(result == '\\u2684'):\n",
    "        label3-tkinter. Label(root, text='You rolled a five! Click roll dice to roll again.', font=('Helvetica',20)) \n",
    "        label3.place(x=25, y=450)\n",
    "    elif (result=='\\u2685'):\n",
    "        label3=tkinter.Label(root, text='You rolled a six! Click roll dice to roll again. ', font=('Helvetica',20))\n",
    "        label3. place (x=25, y=450) \n",
    "button = tkinter.Button(root, text='Roll dice', font=(\"Helvetica\", 25), bg=\"lightblue\", command=roll_dice, fg=\"black\")\n",
    "button.pack()\n",
    "root.mainloop()"
   ]
  },
  {
   "cell_type": "code",
   "execution_count": null,
   "id": "a2fb09bb",
   "metadata": {},
   "outputs": [],
   "source": []
  },
  {
   "cell_type": "code",
   "execution_count": null,
   "id": "d8ca6fad",
   "metadata": {},
   "outputs": [],
   "source": []
  },
  {
   "cell_type": "code",
   "execution_count": null,
   "id": "6cec1527",
   "metadata": {},
   "outputs": [],
   "source": []
  },
  {
   "cell_type": "code",
   "execution_count": null,
   "id": "cd4d515c",
   "metadata": {},
   "outputs": [],
   "source": []
  },
  {
   "cell_type": "code",
   "execution_count": null,
   "id": "a520cc59",
   "metadata": {},
   "outputs": [],
   "source": []
  }
 ],
 "metadata": {
  "kernelspec": {
   "display_name": "Python 3 (ipykernel)",
   "language": "python",
   "name": "python3"
  },
  "language_info": {
   "codemirror_mode": {
    "name": "ipython",
    "version": 3
   },
   "file_extension": ".py",
   "mimetype": "text/x-python",
   "name": "python",
   "nbconvert_exporter": "python",
   "pygments_lexer": "ipython3",
   "version": "3.9.12"
  }
 },
 "nbformat": 4,
 "nbformat_minor": 5
}
